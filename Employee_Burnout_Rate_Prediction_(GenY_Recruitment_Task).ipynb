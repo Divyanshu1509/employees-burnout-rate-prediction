{
  "nbformat": 4,
  "nbformat_minor": 0,
  "metadata": {
    "colab": {
      "name": "Employee Burnout Rate Prediction (GenY Recruitment Task).ipynb",
      "provenance": []
    },
    "kernelspec": {
      "name": "python3",
      "display_name": "Python 3"
    },
    "language_info": {
      "name": "python"
    },
    "accelerator": "GPU"
  },
  "cells": [
    {
      "cell_type": "code",
      "metadata": {
        "id": "V8a7CeMJL1kz"
      },
      "source": [
        "import numpy as np\n",
        "import pandas as pd\n",
        "import matplotlib.pyplot as plt\n",
        "%matplotlib inline"
      ],
      "execution_count": 1,
      "outputs": []
    },
    {
      "cell_type": "code",
      "metadata": {
        "id": "cXx-kFSEPw_l"
      },
      "source": [
        "train = pd.read_csv('/content/train.csv')\n",
        "test = pd.read_csv('/content/test.csv')"
      ],
      "execution_count": 2,
      "outputs": []
    },
    {
      "cell_type": "code",
      "metadata": {
        "colab": {
          "base_uri": "https://localhost:8080/",
          "height": 423
        },
        "id": "-P-iRvleQFml",
        "outputId": "f29aabca-a16a-496e-f6bf-23c27d84df9b"
      },
      "source": [
        "train"
      ],
      "execution_count": 5,
      "outputs": [
        {
          "output_type": "execute_result",
          "data": {
            "text/html": [
              "<div>\n",
              "<style scoped>\n",
              "    .dataframe tbody tr th:only-of-type {\n",
              "        vertical-align: middle;\n",
              "    }\n",
              "\n",
              "    .dataframe tbody tr th {\n",
              "        vertical-align: top;\n",
              "    }\n",
              "\n",
              "    .dataframe thead th {\n",
              "        text-align: right;\n",
              "    }\n",
              "</style>\n",
              "<table border=\"1\" class=\"dataframe\">\n",
              "  <thead>\n",
              "    <tr style=\"text-align: right;\">\n",
              "      <th></th>\n",
              "      <th>Employee ID</th>\n",
              "      <th>Date of Joining</th>\n",
              "      <th>Gender</th>\n",
              "      <th>Company Type</th>\n",
              "      <th>WFH Setup Available</th>\n",
              "      <th>Designation</th>\n",
              "      <th>Resource Allocation</th>\n",
              "      <th>Mental Fatigue Score</th>\n",
              "      <th>Burn Rate</th>\n",
              "    </tr>\n",
              "  </thead>\n",
              "  <tbody>\n",
              "    <tr>\n",
              "      <th>0</th>\n",
              "      <td>fffe32003000360033003200</td>\n",
              "      <td>2008-09-30</td>\n",
              "      <td>Female</td>\n",
              "      <td>Service</td>\n",
              "      <td>No</td>\n",
              "      <td>2.0</td>\n",
              "      <td>3.0</td>\n",
              "      <td>3.8</td>\n",
              "      <td>0.16</td>\n",
              "    </tr>\n",
              "    <tr>\n",
              "      <th>1</th>\n",
              "      <td>fffe3700360033003500</td>\n",
              "      <td>2008-11-30</td>\n",
              "      <td>Male</td>\n",
              "      <td>Service</td>\n",
              "      <td>Yes</td>\n",
              "      <td>1.0</td>\n",
              "      <td>2.0</td>\n",
              "      <td>5.0</td>\n",
              "      <td>0.36</td>\n",
              "    </tr>\n",
              "    <tr>\n",
              "      <th>2</th>\n",
              "      <td>fffe31003300320037003900</td>\n",
              "      <td>2008-03-10</td>\n",
              "      <td>Female</td>\n",
              "      <td>Product</td>\n",
              "      <td>Yes</td>\n",
              "      <td>2.0</td>\n",
              "      <td>NaN</td>\n",
              "      <td>5.8</td>\n",
              "      <td>0.49</td>\n",
              "    </tr>\n",
              "    <tr>\n",
              "      <th>3</th>\n",
              "      <td>fffe32003400380032003900</td>\n",
              "      <td>2008-11-03</td>\n",
              "      <td>Male</td>\n",
              "      <td>Service</td>\n",
              "      <td>Yes</td>\n",
              "      <td>1.0</td>\n",
              "      <td>1.0</td>\n",
              "      <td>2.6</td>\n",
              "      <td>0.20</td>\n",
              "    </tr>\n",
              "    <tr>\n",
              "      <th>4</th>\n",
              "      <td>fffe31003900340031003600</td>\n",
              "      <td>2008-07-24</td>\n",
              "      <td>Female</td>\n",
              "      <td>Service</td>\n",
              "      <td>No</td>\n",
              "      <td>3.0</td>\n",
              "      <td>7.0</td>\n",
              "      <td>6.9</td>\n",
              "      <td>0.52</td>\n",
              "    </tr>\n",
              "    <tr>\n",
              "      <th>...</th>\n",
              "      <td>...</td>\n",
              "      <td>...</td>\n",
              "      <td>...</td>\n",
              "      <td>...</td>\n",
              "      <td>...</td>\n",
              "      <td>...</td>\n",
              "      <td>...</td>\n",
              "      <td>...</td>\n",
              "      <td>...</td>\n",
              "    </tr>\n",
              "    <tr>\n",
              "      <th>22745</th>\n",
              "      <td>fffe31003500370039003100</td>\n",
              "      <td>2008-12-30</td>\n",
              "      <td>Female</td>\n",
              "      <td>Service</td>\n",
              "      <td>No</td>\n",
              "      <td>1.0</td>\n",
              "      <td>3.0</td>\n",
              "      <td>NaN</td>\n",
              "      <td>0.41</td>\n",
              "    </tr>\n",
              "    <tr>\n",
              "      <th>22746</th>\n",
              "      <td>fffe33003000350031003800</td>\n",
              "      <td>2008-01-19</td>\n",
              "      <td>Female</td>\n",
              "      <td>Product</td>\n",
              "      <td>Yes</td>\n",
              "      <td>3.0</td>\n",
              "      <td>6.0</td>\n",
              "      <td>6.7</td>\n",
              "      <td>0.59</td>\n",
              "    </tr>\n",
              "    <tr>\n",
              "      <th>22747</th>\n",
              "      <td>fffe390032003000</td>\n",
              "      <td>2008-11-05</td>\n",
              "      <td>Male</td>\n",
              "      <td>Service</td>\n",
              "      <td>Yes</td>\n",
              "      <td>3.0</td>\n",
              "      <td>7.0</td>\n",
              "      <td>NaN</td>\n",
              "      <td>0.72</td>\n",
              "    </tr>\n",
              "    <tr>\n",
              "      <th>22748</th>\n",
              "      <td>fffe33003300320036003900</td>\n",
              "      <td>2008-01-10</td>\n",
              "      <td>Female</td>\n",
              "      <td>Service</td>\n",
              "      <td>No</td>\n",
              "      <td>2.0</td>\n",
              "      <td>5.0</td>\n",
              "      <td>5.9</td>\n",
              "      <td>0.52</td>\n",
              "    </tr>\n",
              "    <tr>\n",
              "      <th>22749</th>\n",
              "      <td>fffe3400350031003800</td>\n",
              "      <td>2008-01-06</td>\n",
              "      <td>Male</td>\n",
              "      <td>Product</td>\n",
              "      <td>No</td>\n",
              "      <td>3.0</td>\n",
              "      <td>6.0</td>\n",
              "      <td>7.8</td>\n",
              "      <td>0.61</td>\n",
              "    </tr>\n",
              "  </tbody>\n",
              "</table>\n",
              "<p>22750 rows × 9 columns</p>\n",
              "</div>"
            ],
            "text/plain": [
              "                    Employee ID  ... Burn Rate\n",
              "0      fffe32003000360033003200  ...      0.16\n",
              "1          fffe3700360033003500  ...      0.36\n",
              "2      fffe31003300320037003900  ...      0.49\n",
              "3      fffe32003400380032003900  ...      0.20\n",
              "4      fffe31003900340031003600  ...      0.52\n",
              "...                         ...  ...       ...\n",
              "22745  fffe31003500370039003100  ...      0.41\n",
              "22746  fffe33003000350031003800  ...      0.59\n",
              "22747          fffe390032003000  ...      0.72\n",
              "22748  fffe33003300320036003900  ...      0.52\n",
              "22749      fffe3400350031003800  ...      0.61\n",
              "\n",
              "[22750 rows x 9 columns]"
            ]
          },
          "metadata": {},
          "execution_count": 5
        }
      ]
    },
    {
      "cell_type": "code",
      "metadata": {
        "colab": {
          "base_uri": "https://localhost:8080/",
          "height": 423
        },
        "id": "-wfBZH_4QPrs",
        "outputId": "c253da03-ec41-495a-9518-924dfaacae67"
      },
      "source": [
        "test"
      ],
      "execution_count": 6,
      "outputs": [
        {
          "output_type": "execute_result",
          "data": {
            "text/html": [
              "<div>\n",
              "<style scoped>\n",
              "    .dataframe tbody tr th:only-of-type {\n",
              "        vertical-align: middle;\n",
              "    }\n",
              "\n",
              "    .dataframe tbody tr th {\n",
              "        vertical-align: top;\n",
              "    }\n",
              "\n",
              "    .dataframe thead th {\n",
              "        text-align: right;\n",
              "    }\n",
              "</style>\n",
              "<table border=\"1\" class=\"dataframe\">\n",
              "  <thead>\n",
              "    <tr style=\"text-align: right;\">\n",
              "      <th></th>\n",
              "      <th>Employee ID</th>\n",
              "      <th>Date of Joining</th>\n",
              "      <th>Gender</th>\n",
              "      <th>Company Type</th>\n",
              "      <th>WFH Setup Available</th>\n",
              "      <th>Designation</th>\n",
              "      <th>Resource Allocation</th>\n",
              "      <th>Mental Fatigue Score</th>\n",
              "    </tr>\n",
              "  </thead>\n",
              "  <tbody>\n",
              "    <tr>\n",
              "      <th>0</th>\n",
              "      <td>fffe31003300390039003000</td>\n",
              "      <td>2008-12-10</td>\n",
              "      <td>Female</td>\n",
              "      <td>Service</td>\n",
              "      <td>No</td>\n",
              "      <td>2.0</td>\n",
              "      <td>5.0</td>\n",
              "      <td>7.7</td>\n",
              "    </tr>\n",
              "    <tr>\n",
              "      <th>1</th>\n",
              "      <td>fffe31003300310037003800</td>\n",
              "      <td>2008-08-14</td>\n",
              "      <td>Female</td>\n",
              "      <td>Product</td>\n",
              "      <td>Yes</td>\n",
              "      <td>1.0</td>\n",
              "      <td>2.0</td>\n",
              "      <td>5.2</td>\n",
              "    </tr>\n",
              "    <tr>\n",
              "      <th>2</th>\n",
              "      <td>fffe33003400380035003900</td>\n",
              "      <td>2008-11-13</td>\n",
              "      <td>Male</td>\n",
              "      <td>Product</td>\n",
              "      <td>Yes</td>\n",
              "      <td>1.0</td>\n",
              "      <td>3.0</td>\n",
              "      <td>5.9</td>\n",
              "    </tr>\n",
              "    <tr>\n",
              "      <th>3</th>\n",
              "      <td>fffe3100370039003200</td>\n",
              "      <td>2008-02-07</td>\n",
              "      <td>Female</td>\n",
              "      <td>Service</td>\n",
              "      <td>No</td>\n",
              "      <td>3.0</td>\n",
              "      <td>6.0</td>\n",
              "      <td>4.6</td>\n",
              "    </tr>\n",
              "    <tr>\n",
              "      <th>4</th>\n",
              "      <td>fffe32003600390036003700</td>\n",
              "      <td>2008-07-17</td>\n",
              "      <td>Female</td>\n",
              "      <td>Product</td>\n",
              "      <td>No</td>\n",
              "      <td>2.0</td>\n",
              "      <td>5.0</td>\n",
              "      <td>6.4</td>\n",
              "    </tr>\n",
              "    <tr>\n",
              "      <th>...</th>\n",
              "      <td>...</td>\n",
              "      <td>...</td>\n",
              "      <td>...</td>\n",
              "      <td>...</td>\n",
              "      <td>...</td>\n",
              "      <td>...</td>\n",
              "      <td>...</td>\n",
              "      <td>...</td>\n",
              "    </tr>\n",
              "    <tr>\n",
              "      <th>12245</th>\n",
              "      <td>fffe3900310034003700</td>\n",
              "      <td>2008-10-02</td>\n",
              "      <td>Female</td>\n",
              "      <td>Service</td>\n",
              "      <td>Yes</td>\n",
              "      <td>1.0</td>\n",
              "      <td>2.0</td>\n",
              "      <td>6.1</td>\n",
              "    </tr>\n",
              "    <tr>\n",
              "      <th>12246</th>\n",
              "      <td>fffe32003600330034003000</td>\n",
              "      <td>2008-03-31</td>\n",
              "      <td>Female</td>\n",
              "      <td>Product</td>\n",
              "      <td>Yes</td>\n",
              "      <td>2.0</td>\n",
              "      <td>4.0</td>\n",
              "      <td>5.9</td>\n",
              "    </tr>\n",
              "    <tr>\n",
              "      <th>12247</th>\n",
              "      <td>fffe31003800340039003000</td>\n",
              "      <td>2008-02-12</td>\n",
              "      <td>Male</td>\n",
              "      <td>Service</td>\n",
              "      <td>No</td>\n",
              "      <td>4.0</td>\n",
              "      <td>7.0</td>\n",
              "      <td>9.6</td>\n",
              "    </tr>\n",
              "    <tr>\n",
              "      <th>12248</th>\n",
              "      <td>fffe32003600380031003800</td>\n",
              "      <td>2008-02-06</td>\n",
              "      <td>Male</td>\n",
              "      <td>Service</td>\n",
              "      <td>No</td>\n",
              "      <td>3.0</td>\n",
              "      <td>6.0</td>\n",
              "      <td>6.7</td>\n",
              "    </tr>\n",
              "    <tr>\n",
              "      <th>12249</th>\n",
              "      <td>fffe32003100390037003800</td>\n",
              "      <td>2008-08-05</td>\n",
              "      <td>Female</td>\n",
              "      <td>Product</td>\n",
              "      <td>No</td>\n",
              "      <td>2.0</td>\n",
              "      <td>2.0</td>\n",
              "      <td>2.0</td>\n",
              "    </tr>\n",
              "  </tbody>\n",
              "</table>\n",
              "<p>12250 rows × 8 columns</p>\n",
              "</div>"
            ],
            "text/plain": [
              "                    Employee ID  ... Mental Fatigue Score\n",
              "0      fffe31003300390039003000  ...                  7.7\n",
              "1      fffe31003300310037003800  ...                  5.2\n",
              "2      fffe33003400380035003900  ...                  5.9\n",
              "3          fffe3100370039003200  ...                  4.6\n",
              "4      fffe32003600390036003700  ...                  6.4\n",
              "...                         ...  ...                  ...\n",
              "12245      fffe3900310034003700  ...                  6.1\n",
              "12246  fffe32003600330034003000  ...                  5.9\n",
              "12247  fffe31003800340039003000  ...                  9.6\n",
              "12248  fffe32003600380031003800  ...                  6.7\n",
              "12249  fffe32003100390037003800  ...                  2.0\n",
              "\n",
              "[12250 rows x 8 columns]"
            ]
          },
          "metadata": {},
          "execution_count": 6
        }
      ]
    },
    {
      "cell_type": "code",
      "metadata": {
        "colab": {
          "base_uri": "https://localhost:8080/",
          "height": 206
        },
        "id": "Zo8yK5FdQWvE",
        "outputId": "2f04b2ee-b91c-4755-97b8-d1b9b0062c99"
      },
      "source": [
        "train.head()"
      ],
      "execution_count": 7,
      "outputs": [
        {
          "output_type": "execute_result",
          "data": {
            "text/html": [
              "<div>\n",
              "<style scoped>\n",
              "    .dataframe tbody tr th:only-of-type {\n",
              "        vertical-align: middle;\n",
              "    }\n",
              "\n",
              "    .dataframe tbody tr th {\n",
              "        vertical-align: top;\n",
              "    }\n",
              "\n",
              "    .dataframe thead th {\n",
              "        text-align: right;\n",
              "    }\n",
              "</style>\n",
              "<table border=\"1\" class=\"dataframe\">\n",
              "  <thead>\n",
              "    <tr style=\"text-align: right;\">\n",
              "      <th></th>\n",
              "      <th>Employee ID</th>\n",
              "      <th>Date of Joining</th>\n",
              "      <th>Gender</th>\n",
              "      <th>Company Type</th>\n",
              "      <th>WFH Setup Available</th>\n",
              "      <th>Designation</th>\n",
              "      <th>Resource Allocation</th>\n",
              "      <th>Mental Fatigue Score</th>\n",
              "      <th>Burn Rate</th>\n",
              "    </tr>\n",
              "  </thead>\n",
              "  <tbody>\n",
              "    <tr>\n",
              "      <th>0</th>\n",
              "      <td>fffe32003000360033003200</td>\n",
              "      <td>2008-09-30</td>\n",
              "      <td>Female</td>\n",
              "      <td>Service</td>\n",
              "      <td>No</td>\n",
              "      <td>2.0</td>\n",
              "      <td>3.0</td>\n",
              "      <td>3.8</td>\n",
              "      <td>0.16</td>\n",
              "    </tr>\n",
              "    <tr>\n",
              "      <th>1</th>\n",
              "      <td>fffe3700360033003500</td>\n",
              "      <td>2008-11-30</td>\n",
              "      <td>Male</td>\n",
              "      <td>Service</td>\n",
              "      <td>Yes</td>\n",
              "      <td>1.0</td>\n",
              "      <td>2.0</td>\n",
              "      <td>5.0</td>\n",
              "      <td>0.36</td>\n",
              "    </tr>\n",
              "    <tr>\n",
              "      <th>2</th>\n",
              "      <td>fffe31003300320037003900</td>\n",
              "      <td>2008-03-10</td>\n",
              "      <td>Female</td>\n",
              "      <td>Product</td>\n",
              "      <td>Yes</td>\n",
              "      <td>2.0</td>\n",
              "      <td>NaN</td>\n",
              "      <td>5.8</td>\n",
              "      <td>0.49</td>\n",
              "    </tr>\n",
              "    <tr>\n",
              "      <th>3</th>\n",
              "      <td>fffe32003400380032003900</td>\n",
              "      <td>2008-11-03</td>\n",
              "      <td>Male</td>\n",
              "      <td>Service</td>\n",
              "      <td>Yes</td>\n",
              "      <td>1.0</td>\n",
              "      <td>1.0</td>\n",
              "      <td>2.6</td>\n",
              "      <td>0.20</td>\n",
              "    </tr>\n",
              "    <tr>\n",
              "      <th>4</th>\n",
              "      <td>fffe31003900340031003600</td>\n",
              "      <td>2008-07-24</td>\n",
              "      <td>Female</td>\n",
              "      <td>Service</td>\n",
              "      <td>No</td>\n",
              "      <td>3.0</td>\n",
              "      <td>7.0</td>\n",
              "      <td>6.9</td>\n",
              "      <td>0.52</td>\n",
              "    </tr>\n",
              "  </tbody>\n",
              "</table>\n",
              "</div>"
            ],
            "text/plain": [
              "                Employee ID Date of Joining  ... Mental Fatigue Score Burn Rate\n",
              "0  fffe32003000360033003200      2008-09-30  ...                  3.8      0.16\n",
              "1      fffe3700360033003500      2008-11-30  ...                  5.0      0.36\n",
              "2  fffe31003300320037003900      2008-03-10  ...                  5.8      0.49\n",
              "3  fffe32003400380032003900      2008-11-03  ...                  2.6      0.20\n",
              "4  fffe31003900340031003600      2008-07-24  ...                  6.9      0.52\n",
              "\n",
              "[5 rows x 9 columns]"
            ]
          },
          "metadata": {},
          "execution_count": 7
        }
      ]
    },
    {
      "cell_type": "code",
      "metadata": {
        "colab": {
          "base_uri": "https://localhost:8080/",
          "height": 206
        },
        "id": "dd1kJsOmQZtk",
        "outputId": "5a75d0ac-465e-456b-93b3-0c3c81c7085a"
      },
      "source": [
        "test.head()"
      ],
      "execution_count": 8,
      "outputs": [
        {
          "output_type": "execute_result",
          "data": {
            "text/html": [
              "<div>\n",
              "<style scoped>\n",
              "    .dataframe tbody tr th:only-of-type {\n",
              "        vertical-align: middle;\n",
              "    }\n",
              "\n",
              "    .dataframe tbody tr th {\n",
              "        vertical-align: top;\n",
              "    }\n",
              "\n",
              "    .dataframe thead th {\n",
              "        text-align: right;\n",
              "    }\n",
              "</style>\n",
              "<table border=\"1\" class=\"dataframe\">\n",
              "  <thead>\n",
              "    <tr style=\"text-align: right;\">\n",
              "      <th></th>\n",
              "      <th>Employee ID</th>\n",
              "      <th>Date of Joining</th>\n",
              "      <th>Gender</th>\n",
              "      <th>Company Type</th>\n",
              "      <th>WFH Setup Available</th>\n",
              "      <th>Designation</th>\n",
              "      <th>Resource Allocation</th>\n",
              "      <th>Mental Fatigue Score</th>\n",
              "    </tr>\n",
              "  </thead>\n",
              "  <tbody>\n",
              "    <tr>\n",
              "      <th>0</th>\n",
              "      <td>fffe31003300390039003000</td>\n",
              "      <td>2008-12-10</td>\n",
              "      <td>Female</td>\n",
              "      <td>Service</td>\n",
              "      <td>No</td>\n",
              "      <td>2.0</td>\n",
              "      <td>5.0</td>\n",
              "      <td>7.7</td>\n",
              "    </tr>\n",
              "    <tr>\n",
              "      <th>1</th>\n",
              "      <td>fffe31003300310037003800</td>\n",
              "      <td>2008-08-14</td>\n",
              "      <td>Female</td>\n",
              "      <td>Product</td>\n",
              "      <td>Yes</td>\n",
              "      <td>1.0</td>\n",
              "      <td>2.0</td>\n",
              "      <td>5.2</td>\n",
              "    </tr>\n",
              "    <tr>\n",
              "      <th>2</th>\n",
              "      <td>fffe33003400380035003900</td>\n",
              "      <td>2008-11-13</td>\n",
              "      <td>Male</td>\n",
              "      <td>Product</td>\n",
              "      <td>Yes</td>\n",
              "      <td>1.0</td>\n",
              "      <td>3.0</td>\n",
              "      <td>5.9</td>\n",
              "    </tr>\n",
              "    <tr>\n",
              "      <th>3</th>\n",
              "      <td>fffe3100370039003200</td>\n",
              "      <td>2008-02-07</td>\n",
              "      <td>Female</td>\n",
              "      <td>Service</td>\n",
              "      <td>No</td>\n",
              "      <td>3.0</td>\n",
              "      <td>6.0</td>\n",
              "      <td>4.6</td>\n",
              "    </tr>\n",
              "    <tr>\n",
              "      <th>4</th>\n",
              "      <td>fffe32003600390036003700</td>\n",
              "      <td>2008-07-17</td>\n",
              "      <td>Female</td>\n",
              "      <td>Product</td>\n",
              "      <td>No</td>\n",
              "      <td>2.0</td>\n",
              "      <td>5.0</td>\n",
              "      <td>6.4</td>\n",
              "    </tr>\n",
              "  </tbody>\n",
              "</table>\n",
              "</div>"
            ],
            "text/plain": [
              "                Employee ID  ... Mental Fatigue Score\n",
              "0  fffe31003300390039003000  ...                  7.7\n",
              "1  fffe31003300310037003800  ...                  5.2\n",
              "2  fffe33003400380035003900  ...                  5.9\n",
              "3      fffe3100370039003200  ...                  4.6\n",
              "4  fffe32003600390036003700  ...                  6.4\n",
              "\n",
              "[5 rows x 8 columns]"
            ]
          },
          "metadata": {},
          "execution_count": 8
        }
      ]
    },
    {
      "cell_type": "code",
      "metadata": {
        "colab": {
          "base_uri": "https://localhost:8080/"
        },
        "id": "ms9B8fJOQa39",
        "outputId": "b600463b-49cb-452a-d654-97118f10bacd"
      },
      "source": [
        "train.info()"
      ],
      "execution_count": 9,
      "outputs": [
        {
          "output_type": "stream",
          "name": "stdout",
          "text": [
            "<class 'pandas.core.frame.DataFrame'>\n",
            "RangeIndex: 22750 entries, 0 to 22749\n",
            "Data columns (total 9 columns):\n",
            " #   Column                Non-Null Count  Dtype  \n",
            "---  ------                --------------  -----  \n",
            " 0   Employee ID           22750 non-null  object \n",
            " 1   Date of Joining       22750 non-null  object \n",
            " 2   Gender                22750 non-null  object \n",
            " 3   Company Type          22750 non-null  object \n",
            " 4   WFH Setup Available   22750 non-null  object \n",
            " 5   Designation           22750 non-null  float64\n",
            " 6   Resource Allocation   21369 non-null  float64\n",
            " 7   Mental Fatigue Score  20633 non-null  float64\n",
            " 8   Burn Rate             21626 non-null  float64\n",
            "dtypes: float64(4), object(5)\n",
            "memory usage: 1.6+ MB\n"
          ]
        }
      ]
    },
    {
      "cell_type": "code",
      "metadata": {
        "colab": {
          "base_uri": "https://localhost:8080/"
        },
        "id": "Fmg7HsRlR50U",
        "outputId": "f7291ab3-fd55-4125-c6eb-714ee853797c"
      },
      "source": [
        "test.info()"
      ],
      "execution_count": 10,
      "outputs": [
        {
          "output_type": "stream",
          "name": "stdout",
          "text": [
            "<class 'pandas.core.frame.DataFrame'>\n",
            "RangeIndex: 12250 entries, 0 to 12249\n",
            "Data columns (total 8 columns):\n",
            " #   Column                Non-Null Count  Dtype  \n",
            "---  ------                --------------  -----  \n",
            " 0   Employee ID           12250 non-null  object \n",
            " 1   Date of Joining       12250 non-null  object \n",
            " 2   Gender                12250 non-null  object \n",
            " 3   Company Type          12250 non-null  object \n",
            " 4   WFH Setup Available   12250 non-null  object \n",
            " 5   Designation           12250 non-null  float64\n",
            " 6   Resource Allocation   12250 non-null  float64\n",
            " 7   Mental Fatigue Score  12250 non-null  float64\n",
            "dtypes: float64(3), object(5)\n",
            "memory usage: 765.8+ KB\n"
          ]
        }
      ]
    },
    {
      "cell_type": "code",
      "metadata": {
        "colab": {
          "base_uri": "https://localhost:8080/",
          "height": 174
        },
        "id": "7aMM44uZR7zD",
        "outputId": "22f9ab08-8be3-4a23-e425-ef552ee827d5"
      },
      "source": [
        "train.describe().T"
      ],
      "execution_count": 11,
      "outputs": [
        {
          "output_type": "execute_result",
          "data": {
            "text/html": [
              "<div>\n",
              "<style scoped>\n",
              "    .dataframe tbody tr th:only-of-type {\n",
              "        vertical-align: middle;\n",
              "    }\n",
              "\n",
              "    .dataframe tbody tr th {\n",
              "        vertical-align: top;\n",
              "    }\n",
              "\n",
              "    .dataframe thead th {\n",
              "        text-align: right;\n",
              "    }\n",
              "</style>\n",
              "<table border=\"1\" class=\"dataframe\">\n",
              "  <thead>\n",
              "    <tr style=\"text-align: right;\">\n",
              "      <th></th>\n",
              "      <th>count</th>\n",
              "      <th>mean</th>\n",
              "      <th>std</th>\n",
              "      <th>min</th>\n",
              "      <th>25%</th>\n",
              "      <th>50%</th>\n",
              "      <th>75%</th>\n",
              "      <th>max</th>\n",
              "    </tr>\n",
              "  </thead>\n",
              "  <tbody>\n",
              "    <tr>\n",
              "      <th>Designation</th>\n",
              "      <td>22750.0</td>\n",
              "      <td>2.178725</td>\n",
              "      <td>1.135145</td>\n",
              "      <td>0.0</td>\n",
              "      <td>1.00</td>\n",
              "      <td>2.00</td>\n",
              "      <td>3.00</td>\n",
              "      <td>5.0</td>\n",
              "    </tr>\n",
              "    <tr>\n",
              "      <th>Resource Allocation</th>\n",
              "      <td>21369.0</td>\n",
              "      <td>4.481398</td>\n",
              "      <td>2.047211</td>\n",
              "      <td>1.0</td>\n",
              "      <td>3.00</td>\n",
              "      <td>4.00</td>\n",
              "      <td>6.00</td>\n",
              "      <td>10.0</td>\n",
              "    </tr>\n",
              "    <tr>\n",
              "      <th>Mental Fatigue Score</th>\n",
              "      <td>20633.0</td>\n",
              "      <td>5.728188</td>\n",
              "      <td>1.920839</td>\n",
              "      <td>0.0</td>\n",
              "      <td>4.60</td>\n",
              "      <td>5.90</td>\n",
              "      <td>7.10</td>\n",
              "      <td>10.0</td>\n",
              "    </tr>\n",
              "    <tr>\n",
              "      <th>Burn Rate</th>\n",
              "      <td>21626.0</td>\n",
              "      <td>0.452005</td>\n",
              "      <td>0.198226</td>\n",
              "      <td>0.0</td>\n",
              "      <td>0.31</td>\n",
              "      <td>0.45</td>\n",
              "      <td>0.59</td>\n",
              "      <td>1.0</td>\n",
              "    </tr>\n",
              "  </tbody>\n",
              "</table>\n",
              "</div>"
            ],
            "text/plain": [
              "                        count      mean       std  min   25%   50%   75%   max\n",
              "Designation           22750.0  2.178725  1.135145  0.0  1.00  2.00  3.00   5.0\n",
              "Resource Allocation   21369.0  4.481398  2.047211  1.0  3.00  4.00  6.00  10.0\n",
              "Mental Fatigue Score  20633.0  5.728188  1.920839  0.0  4.60  5.90  7.10  10.0\n",
              "Burn Rate             21626.0  0.452005  0.198226  0.0  0.31  0.45  0.59   1.0"
            ]
          },
          "metadata": {},
          "execution_count": 11
        }
      ]
    },
    {
      "cell_type": "code",
      "metadata": {
        "id": "DYF424v0WO9M"
      },
      "source": [
        "train.drop('Employee ID' ,axis=1,inplace=True)"
      ],
      "execution_count": 12,
      "outputs": []
    },
    {
      "cell_type": "code",
      "metadata": {
        "id": "CmfT9iZRWV8U"
      },
      "source": [
        "train = pd.get_dummies(train,columns=['Gender', 'Company Type', 'WFH Setup Available',\n",
        "       'Designation', 'Resource Allocation'],drop_first=True)"
      ],
      "execution_count": 13,
      "outputs": []
    },
    {
      "cell_type": "code",
      "metadata": {
        "colab": {
          "base_uri": "https://localhost:8080/",
          "height": 347
        },
        "id": "yOBfN50jWZHN",
        "outputId": "d44a4e82-f204-467d-bec6-ab0483fcff00"
      },
      "source": [
        "train.head()"
      ],
      "execution_count": 14,
      "outputs": [
        {
          "output_type": "execute_result",
          "data": {
            "text/html": [
              "<div>\n",
              "<style scoped>\n",
              "    .dataframe tbody tr th:only-of-type {\n",
              "        vertical-align: middle;\n",
              "    }\n",
              "\n",
              "    .dataframe tbody tr th {\n",
              "        vertical-align: top;\n",
              "    }\n",
              "\n",
              "    .dataframe thead th {\n",
              "        text-align: right;\n",
              "    }\n",
              "</style>\n",
              "<table border=\"1\" class=\"dataframe\">\n",
              "  <thead>\n",
              "    <tr style=\"text-align: right;\">\n",
              "      <th></th>\n",
              "      <th>Date of Joining</th>\n",
              "      <th>Mental Fatigue Score</th>\n",
              "      <th>Burn Rate</th>\n",
              "      <th>Gender_Male</th>\n",
              "      <th>Company Type_Service</th>\n",
              "      <th>WFH Setup Available_Yes</th>\n",
              "      <th>Designation_1.0</th>\n",
              "      <th>Designation_2.0</th>\n",
              "      <th>Designation_3.0</th>\n",
              "      <th>Designation_4.0</th>\n",
              "      <th>Designation_5.0</th>\n",
              "      <th>Resource Allocation_2.0</th>\n",
              "      <th>Resource Allocation_3.0</th>\n",
              "      <th>Resource Allocation_4.0</th>\n",
              "      <th>Resource Allocation_5.0</th>\n",
              "      <th>Resource Allocation_6.0</th>\n",
              "      <th>Resource Allocation_7.0</th>\n",
              "      <th>Resource Allocation_8.0</th>\n",
              "      <th>Resource Allocation_9.0</th>\n",
              "      <th>Resource Allocation_10.0</th>\n",
              "    </tr>\n",
              "  </thead>\n",
              "  <tbody>\n",
              "    <tr>\n",
              "      <th>0</th>\n",
              "      <td>2008-09-30</td>\n",
              "      <td>3.8</td>\n",
              "      <td>0.16</td>\n",
              "      <td>0</td>\n",
              "      <td>1</td>\n",
              "      <td>0</td>\n",
              "      <td>0</td>\n",
              "      <td>1</td>\n",
              "      <td>0</td>\n",
              "      <td>0</td>\n",
              "      <td>0</td>\n",
              "      <td>0</td>\n",
              "      <td>1</td>\n",
              "      <td>0</td>\n",
              "      <td>0</td>\n",
              "      <td>0</td>\n",
              "      <td>0</td>\n",
              "      <td>0</td>\n",
              "      <td>0</td>\n",
              "      <td>0</td>\n",
              "    </tr>\n",
              "    <tr>\n",
              "      <th>1</th>\n",
              "      <td>2008-11-30</td>\n",
              "      <td>5.0</td>\n",
              "      <td>0.36</td>\n",
              "      <td>1</td>\n",
              "      <td>1</td>\n",
              "      <td>1</td>\n",
              "      <td>1</td>\n",
              "      <td>0</td>\n",
              "      <td>0</td>\n",
              "      <td>0</td>\n",
              "      <td>0</td>\n",
              "      <td>1</td>\n",
              "      <td>0</td>\n",
              "      <td>0</td>\n",
              "      <td>0</td>\n",
              "      <td>0</td>\n",
              "      <td>0</td>\n",
              "      <td>0</td>\n",
              "      <td>0</td>\n",
              "      <td>0</td>\n",
              "    </tr>\n",
              "    <tr>\n",
              "      <th>2</th>\n",
              "      <td>2008-03-10</td>\n",
              "      <td>5.8</td>\n",
              "      <td>0.49</td>\n",
              "      <td>0</td>\n",
              "      <td>0</td>\n",
              "      <td>1</td>\n",
              "      <td>0</td>\n",
              "      <td>1</td>\n",
              "      <td>0</td>\n",
              "      <td>0</td>\n",
              "      <td>0</td>\n",
              "      <td>0</td>\n",
              "      <td>0</td>\n",
              "      <td>0</td>\n",
              "      <td>0</td>\n",
              "      <td>0</td>\n",
              "      <td>0</td>\n",
              "      <td>0</td>\n",
              "      <td>0</td>\n",
              "      <td>0</td>\n",
              "    </tr>\n",
              "    <tr>\n",
              "      <th>3</th>\n",
              "      <td>2008-11-03</td>\n",
              "      <td>2.6</td>\n",
              "      <td>0.20</td>\n",
              "      <td>1</td>\n",
              "      <td>1</td>\n",
              "      <td>1</td>\n",
              "      <td>1</td>\n",
              "      <td>0</td>\n",
              "      <td>0</td>\n",
              "      <td>0</td>\n",
              "      <td>0</td>\n",
              "      <td>0</td>\n",
              "      <td>0</td>\n",
              "      <td>0</td>\n",
              "      <td>0</td>\n",
              "      <td>0</td>\n",
              "      <td>0</td>\n",
              "      <td>0</td>\n",
              "      <td>0</td>\n",
              "      <td>0</td>\n",
              "    </tr>\n",
              "    <tr>\n",
              "      <th>4</th>\n",
              "      <td>2008-07-24</td>\n",
              "      <td>6.9</td>\n",
              "      <td>0.52</td>\n",
              "      <td>0</td>\n",
              "      <td>1</td>\n",
              "      <td>0</td>\n",
              "      <td>0</td>\n",
              "      <td>0</td>\n",
              "      <td>1</td>\n",
              "      <td>0</td>\n",
              "      <td>0</td>\n",
              "      <td>0</td>\n",
              "      <td>0</td>\n",
              "      <td>0</td>\n",
              "      <td>0</td>\n",
              "      <td>0</td>\n",
              "      <td>1</td>\n",
              "      <td>0</td>\n",
              "      <td>0</td>\n",
              "      <td>0</td>\n",
              "    </tr>\n",
              "  </tbody>\n",
              "</table>\n",
              "</div>"
            ],
            "text/plain": [
              "  Date of Joining  ...  Resource Allocation_10.0\n",
              "0      2008-09-30  ...                         0\n",
              "1      2008-11-30  ...                         0\n",
              "2      2008-03-10  ...                         0\n",
              "3      2008-11-03  ...                         0\n",
              "4      2008-07-24  ...                         0\n",
              "\n",
              "[5 rows x 20 columns]"
            ]
          },
          "metadata": {},
          "execution_count": 14
        }
      ]
    },
    {
      "cell_type": "code",
      "metadata": {
        "colab": {
          "base_uri": "https://localhost:8080/"
        },
        "id": "JS_e4Mv6Wdfd",
        "outputId": "4ecd09dd-5b77-4b51-9f18-f3ac7ad7ffc4"
      },
      "source": [
        "train.shape"
      ],
      "execution_count": 15,
      "outputs": [
        {
          "output_type": "execute_result",
          "data": {
            "text/plain": [
              "(22750, 20)"
            ]
          },
          "metadata": {},
          "execution_count": 15
        }
      ]
    },
    {
      "cell_type": "code",
      "metadata": {
        "colab": {
          "base_uri": "https://localhost:8080/"
        },
        "id": "Qd0DVe7ZWg3z",
        "outputId": "79dd64e4-97dd-4eed-dfa4-2e14d410e171"
      },
      "source": [
        "train.isnull().sum()"
      ],
      "execution_count": 16,
      "outputs": [
        {
          "output_type": "execute_result",
          "data": {
            "text/plain": [
              "Date of Joining                0\n",
              "Mental Fatigue Score        2117\n",
              "Burn Rate                   1124\n",
              "Gender_Male                    0\n",
              "Company Type_Service           0\n",
              "WFH Setup Available_Yes        0\n",
              "Designation_1.0                0\n",
              "Designation_2.0                0\n",
              "Designation_3.0                0\n",
              "Designation_4.0                0\n",
              "Designation_5.0                0\n",
              "Resource Allocation_2.0        0\n",
              "Resource Allocation_3.0        0\n",
              "Resource Allocation_4.0        0\n",
              "Resource Allocation_5.0        0\n",
              "Resource Allocation_6.0        0\n",
              "Resource Allocation_7.0        0\n",
              "Resource Allocation_8.0        0\n",
              "Resource Allocation_9.0        0\n",
              "Resource Allocation_10.0       0\n",
              "dtype: int64"
            ]
          },
          "metadata": {},
          "execution_count": 16
        }
      ]
    },
    {
      "cell_type": "code",
      "metadata": {
        "id": "VeBar3NhWjAI"
      },
      "source": [
        "train.dropna(axis = 0,inplace=True)"
      ],
      "execution_count": 17,
      "outputs": []
    },
    {
      "cell_type": "code",
      "metadata": {
        "colab": {
          "base_uri": "https://localhost:8080/"
        },
        "id": "JqCGxTBPWlts",
        "outputId": "9afa86ee-7987-4b57-f1bb-2eae322913d2"
      },
      "source": [
        "train.isnull().sum()"
      ],
      "execution_count": 18,
      "outputs": [
        {
          "output_type": "execute_result",
          "data": {
            "text/plain": [
              "Date of Joining             0\n",
              "Mental Fatigue Score        0\n",
              "Burn Rate                   0\n",
              "Gender_Male                 0\n",
              "Company Type_Service        0\n",
              "WFH Setup Available_Yes     0\n",
              "Designation_1.0             0\n",
              "Designation_2.0             0\n",
              "Designation_3.0             0\n",
              "Designation_4.0             0\n",
              "Designation_5.0             0\n",
              "Resource Allocation_2.0     0\n",
              "Resource Allocation_3.0     0\n",
              "Resource Allocation_4.0     0\n",
              "Resource Allocation_5.0     0\n",
              "Resource Allocation_6.0     0\n",
              "Resource Allocation_7.0     0\n",
              "Resource Allocation_8.0     0\n",
              "Resource Allocation_9.0     0\n",
              "Resource Allocation_10.0    0\n",
              "dtype: int64"
            ]
          },
          "metadata": {},
          "execution_count": 18
        }
      ]
    },
    {
      "cell_type": "code",
      "metadata": {
        "colab": {
          "base_uri": "https://localhost:8080/"
        },
        "id": "OxHM5KuZWuvY",
        "outputId": "51700683-8ff8-4bfb-8570-e40b30c4bf94"
      },
      "source": [
        "corr_matrix = train.corr()\n",
        "corr_matrix['Burn Rate'].sort_values(ascending = False)"
      ],
      "execution_count": 19,
      "outputs": [
        {
          "output_type": "execute_result",
          "data": {
            "text/plain": [
              "Burn Rate                   1.000000\n",
              "Mental Fatigue Score        0.944546\n",
              "Designation_4.0             0.406585\n",
              "Resource Allocation_7.0     0.315741\n",
              "Resource Allocation_8.0     0.315711\n",
              "Designation_3.0             0.281254\n",
              "Resource Allocation_9.0     0.273632\n",
              "Designation_5.0             0.269076\n",
              "Resource Allocation_6.0     0.244984\n",
              "Resource Allocation_10.0    0.187675\n",
              "Gender_Male                 0.157553\n",
              "Resource Allocation_5.0     0.093592\n",
              "Company Type_Service        0.003821\n",
              "Designation_2.0            -0.058064\n",
              "Resource Allocation_4.0    -0.076613\n",
              "Resource Allocation_3.0    -0.229055\n",
              "WFH Setup Available_Yes    -0.305917\n",
              "Resource Allocation_2.0    -0.316712\n",
              "Designation_1.0            -0.377811\n",
              "Name: Burn Rate, dtype: float64"
            ]
          },
          "metadata": {},
          "execution_count": 19
        }
      ]
    },
    {
      "cell_type": "code",
      "metadata": {
        "colab": {
          "base_uri": "https://localhost:8080/",
          "height": 351
        },
        "id": "8ZlvgKRSWzrr",
        "outputId": "329aadba-d3bd-4cfa-8ed3-cd568d68255c"
      },
      "source": [
        "import seaborn as sns\n",
        "sns.distplot(train['Burn Rate'])"
      ],
      "execution_count": 22,
      "outputs": [
        {
          "output_type": "stream",
          "name": "stderr",
          "text": [
            "/usr/local/lib/python3.7/dist-packages/seaborn/distributions.py:2619: FutureWarning: `distplot` is a deprecated function and will be removed in a future version. Please adapt your code to use either `displot` (a figure-level function with similar flexibility) or `histplot` (an axes-level function for histograms).\n",
            "  warnings.warn(msg, FutureWarning)\n"
          ]
        },
        {
          "output_type": "execute_result",
          "data": {
            "text/plain": [
              "<matplotlib.axes._subplots.AxesSubplot at 0x7f96b2f99d90>"
            ]
          },
          "metadata": {},
          "execution_count": 22
        },
        {
          "output_type": "display_data",
          "data": {
            "image/png": "[encoded data removed]",
            "text/plain": [
              "<Figure size 432x288 with 1 Axes>"
            ]
          },
          "metadata": {
            "needs_background": "light"
          }
        }
      ]
    },
    {
      "cell_type": "code",
      "metadata": {
        "id": "1GT1UBAuW5DT"
      },
      "source": [
        "train.drop_duplicates(inplace=True)"
      ],
      "execution_count": 23,
      "outputs": []
    },
    {
      "cell_type": "code",
      "metadata": {
        "colab": {
          "base_uri": "https://localhost:8080/"
        },
        "id": "hhmWNtBBXDhr",
        "outputId": "4eed72e4-b3aa-4a96-de9c-fb0cc21ac1fe"
      },
      "source": [
        "train.shape"
      ],
      "execution_count": 24,
      "outputs": [
        {
          "output_type": "execute_result",
          "data": {
            "text/plain": [
              "(19675, 20)"
            ]
          },
          "metadata": {},
          "execution_count": 24
        }
      ]
    },
    {
      "cell_type": "code",
      "metadata": {
        "colab": {
          "base_uri": "https://localhost:8080/"
        },
        "id": "xW26X6_LXFYe",
        "outputId": "7f58d844-fccf-4a38-8063-ae4a8068a9c0"
      },
      "source": [
        "train.info()"
      ],
      "execution_count": 25,
      "outputs": [
        {
          "output_type": "stream",
          "name": "stdout",
          "text": [
            "<class 'pandas.core.frame.DataFrame'>\n",
            "Int64Index: 19675 entries, 0 to 22749\n",
            "Data columns (total 20 columns):\n",
            " #   Column                    Non-Null Count  Dtype  \n",
            "---  ------                    --------------  -----  \n",
            " 0   Date of Joining           19675 non-null  object \n",
            " 1   Mental Fatigue Score      19675 non-null  float64\n",
            " 2   Burn Rate                 19675 non-null  float64\n",
            " 3   Gender_Male               19675 non-null  uint8  \n",
            " 4   Company Type_Service      19675 non-null  uint8  \n",
            " 5   WFH Setup Available_Yes   19675 non-null  uint8  \n",
            " 6   Designation_1.0           19675 non-null  uint8  \n",
            " 7   Designation_2.0           19675 non-null  uint8  \n",
            " 8   Designation_3.0           19675 non-null  uint8  \n",
            " 9   Designation_4.0           19675 non-null  uint8  \n",
            " 10  Designation_5.0           19675 non-null  uint8  \n",
            " 11  Resource Allocation_2.0   19675 non-null  uint8  \n",
            " 12  Resource Allocation_3.0   19675 non-null  uint8  \n",
            " 13  Resource Allocation_4.0   19675 non-null  uint8  \n",
            " 14  Resource Allocation_5.0   19675 non-null  uint8  \n",
            " 15  Resource Allocation_6.0   19675 non-null  uint8  \n",
            " 16  Resource Allocation_7.0   19675 non-null  uint8  \n",
            " 17  Resource Allocation_8.0   19675 non-null  uint8  \n",
            " 18  Resource Allocation_9.0   19675 non-null  uint8  \n",
            " 19  Resource Allocation_10.0  19675 non-null  uint8  \n",
            "dtypes: float64(2), object(1), uint8(17)\n",
            "memory usage: 941.5+ KB\n"
          ]
        }
      ]
    },
    {
      "cell_type": "code",
      "metadata": {
        "id": "0hCW9VnVXG3s"
      },
      "source": [
        "train['Date of Joining'] = pd.to_datetime(train['Date of Joining'],errors='coerce')"
      ],
      "execution_count": 26,
      "outputs": []
    },
    {
      "cell_type": "code",
      "metadata": {
        "colab": {
          "base_uri": "https://localhost:8080/"
        },
        "id": "tOZmVlm1XgTT",
        "outputId": "26707274-f144-4074-f01d-9325b1e8defc"
      },
      "source": [
        "import datetime as dt\n",
        "train['Date_of_Joining_year'] = train['Date of Joining'].dt.year\n",
        "train['Date_of_Joining_month'] = train['Date of Joining'].dt.month\n",
        "train['Date_of_Joining_week'] = train['Date of Joining'].dt.week\n",
        "train['Date_of_Joining_day'] = train['Date of Joining'].dt.day\n",
        "train['Date_of_Joining_dayofweek'] = train['Date of Joining'].dt.dayofweek"
      ],
      "execution_count": 27,
      "outputs": [
        {
          "output_type": "stream",
          "name": "stderr",
          "text": [
            "/usr/local/lib/python3.7/dist-packages/ipykernel_launcher.py:4: FutureWarning: Series.dt.weekofyear and Series.dt.week have been deprecated.  Please use Series.dt.isocalendar().week instead.\n",
            "  after removing the cwd from sys.path.\n"
          ]
        }
      ]
    },
    {
      "cell_type": "code",
      "metadata": {
        "id": "uwpn46JWXkAT"
      },
      "source": [
        "train.drop('Date of Joining',axis=1,inplace=True)"
      ],
      "execution_count": 28,
      "outputs": []
    },
    {
      "cell_type": "code",
      "metadata": {
        "colab": {
          "base_uri": "https://localhost:8080/"
        },
        "id": "syrYqe-KXm7b",
        "outputId": "e7b1c590-1f15-4194-e15f-010630a11680"
      },
      "source": [
        "train.shape"
      ],
      "execution_count": 29,
      "outputs": [
        {
          "output_type": "execute_result",
          "data": {
            "text/plain": [
              "(19675, 24)"
            ]
          },
          "metadata": {},
          "execution_count": 29
        }
      ]
    },
    {
      "cell_type": "code",
      "metadata": {
        "id": "vzAVsyUdXok0"
      },
      "source": [
        "X = train.drop('Burn Rate',axis=1)\n",
        "Y = train['Burn Rate']"
      ],
      "execution_count": 30,
      "outputs": []
    },
    {
      "cell_type": "code",
      "metadata": {
        "id": "rKqiwQF8XqhL"
      },
      "source": [
        "from sklearn.model_selection import train_test_split\n",
        "X_train,X_test,Y_train,Y_test = train_test_split(np.array(X),np.array(Y),test_size=0.2,random_state=42)"
      ],
      "execution_count": 31,
      "outputs": []
    },
    {
      "cell_type": "code",
      "metadata": {
        "colab": {
          "base_uri": "https://localhost:8080/"
        },
        "id": "hrtCIAIwXygD",
        "outputId": "de84f7f1-c682-49a4-d3ef-c4aca3403b2b"
      },
      "source": [
        "X_train.shape,X_test.shape,Y_train.shape,Y_test.shape"
      ],
      "execution_count": 32,
      "outputs": [
        {
          "output_type": "execute_result",
          "data": {
            "text/plain": [
              "((15740, 23), (3935, 23), (15740,), (3935,))"
            ]
          },
          "metadata": {},
          "execution_count": 32
        }
      ]
    },
    {
      "cell_type": "code",
      "metadata": {
        "id": "p_8E91AmX1cK"
      },
      "source": [
        "from sklearn.preprocessing import StandardScaler\n",
        "sc = StandardScaler()\n",
        "X_train = sc.fit_transform(X_train)\n",
        "X_test = sc.transform(X_test)"
      ],
      "execution_count": 33,
      "outputs": []
    },
    {
      "cell_type": "code",
      "metadata": {
        "colab": {
          "base_uri": "https://localhost:8080/"
        },
        "id": "hwWePW5DX6gL",
        "outputId": "b0d86ea7-3165-44fd-978b-4d65b9dd111e"
      },
      "source": [
        "from sklearn.linear_model import LinearRegression\n",
        "from sklearn.metrics import r2_score\n",
        "lr = LinearRegression()\n",
        "lr.fit(X_train,Y_train)\n",
        "pred = lr.predict(X_test)\n",
        "s1 = r2_score(Y_test,pred)\n",
        "s1"
      ],
      "execution_count": 35,
      "outputs": [
        {
          "output_type": "execute_result",
          "data": {
            "text/plain": [
              "0.9181895550873127"
            ]
          },
          "metadata": {},
          "execution_count": 35
        }
      ]
    },
    {
      "cell_type": "code",
      "metadata": {
        "colab": {
          "base_uri": "https://localhost:8080/"
        },
        "id": "oyyFxEO9YAjr",
        "outputId": "eded5cb9-f0e4-4f79-9e31-427d29765675"
      },
      "source": [
        "from sklearn.tree import DecisionTreeRegressor\n",
        "dtr = DecisionTreeRegressor()\n",
        "dtr.fit(X_train,Y_train)\n",
        "pred_dt = (dtr.predict(X_test))\n",
        "s2 = r2_score(Y_test,pred_dt)\n",
        "s2"
      ],
      "execution_count": 37,
      "outputs": [
        {
          "output_type": "execute_result",
          "data": {
            "text/plain": [
              "0.8480696321007661"
            ]
          },
          "metadata": {},
          "execution_count": 37
        }
      ]
    },
    {
      "cell_type": "code",
      "metadata": {
        "colab": {
          "base_uri": "https://localhost:8080/"
        },
        "id": "9Dmpy9XWYM3C",
        "outputId": "adce5245-6ae0-438b-921e-1f926dd491d1"
      },
      "source": [
        "from sklearn.ensemble import RandomForestRegressor\n",
        "rf = RandomForestRegressor(n_estimators=800)\n",
        "rf.fit(X_train,Y_train)\n",
        "pred_rf = rf.predict(X_test)\n",
        "s3 = r2_score(Y_test,pred_rf)\n",
        "s3"
      ],
      "execution_count": 38,
      "outputs": [
        {
          "output_type": "execute_result",
          "data": {
            "text/plain": [
              "0.9188637836481293"
            ]
          },
          "metadata": {},
          "execution_count": 38
        }
      ]
    },
    {
      "cell_type": "code",
      "metadata": {
        "colab": {
          "base_uri": "https://localhost:8080/",
          "height": 206
        },
        "id": "kEQ__USAZLeM",
        "outputId": "a550a3fb-7222-4062-a094-f625e3d6fb3b"
      },
      "source": [
        "test = pd.read_csv('/content/test.csv')\n",
        "test.head()"
      ],
      "execution_count": 39,
      "outputs": [
        {
          "output_type": "execute_result",
          "data": {
            "text/html": [
              "<div>\n",
              "<style scoped>\n",
              "    .dataframe tbody tr th:only-of-type {\n",
              "        vertical-align: middle;\n",
              "    }\n",
              "\n",
              "    .dataframe tbody tr th {\n",
              "        vertical-align: top;\n",
              "    }\n",
              "\n",
              "    .dataframe thead th {\n",
              "        text-align: right;\n",
              "    }\n",
              "</style>\n",
              "<table border=\"1\" class=\"dataframe\">\n",
              "  <thead>\n",
              "    <tr style=\"text-align: right;\">\n",
              "      <th></th>\n",
              "      <th>Employee ID</th>\n",
              "      <th>Date of Joining</th>\n",
              "      <th>Gender</th>\n",
              "      <th>Company Type</th>\n",
              "      <th>WFH Setup Available</th>\n",
              "      <th>Designation</th>\n",
              "      <th>Resource Allocation</th>\n",
              "      <th>Mental Fatigue Score</th>\n",
              "    </tr>\n",
              "  </thead>\n",
              "  <tbody>\n",
              "    <tr>\n",
              "      <th>0</th>\n",
              "      <td>fffe31003300390039003000</td>\n",
              "      <td>2008-12-10</td>\n",
              "      <td>Female</td>\n",
              "      <td>Service</td>\n",
              "      <td>No</td>\n",
              "      <td>2.0</td>\n",
              "      <td>5.0</td>\n",
              "      <td>7.7</td>\n",
              "    </tr>\n",
              "    <tr>\n",
              "      <th>1</th>\n",
              "      <td>fffe31003300310037003800</td>\n",
              "      <td>2008-08-14</td>\n",
              "      <td>Female</td>\n",
              "      <td>Product</td>\n",
              "      <td>Yes</td>\n",
              "      <td>1.0</td>\n",
              "      <td>2.0</td>\n",
              "      <td>5.2</td>\n",
              "    </tr>\n",
              "    <tr>\n",
              "      <th>2</th>\n",
              "      <td>fffe33003400380035003900</td>\n",
              "      <td>2008-11-13</td>\n",
              "      <td>Male</td>\n",
              "      <td>Product</td>\n",
              "      <td>Yes</td>\n",
              "      <td>1.0</td>\n",
              "      <td>3.0</td>\n",
              "      <td>5.9</td>\n",
              "    </tr>\n",
              "    <tr>\n",
              "      <th>3</th>\n",
              "      <td>fffe3100370039003200</td>\n",
              "      <td>2008-02-07</td>\n",
              "      <td>Female</td>\n",
              "      <td>Service</td>\n",
              "      <td>No</td>\n",
              "      <td>3.0</td>\n",
              "      <td>6.0</td>\n",
              "      <td>4.6</td>\n",
              "    </tr>\n",
              "    <tr>\n",
              "      <th>4</th>\n",
              "      <td>fffe32003600390036003700</td>\n",
              "      <td>2008-07-17</td>\n",
              "      <td>Female</td>\n",
              "      <td>Product</td>\n",
              "      <td>No</td>\n",
              "      <td>2.0</td>\n",
              "      <td>5.0</td>\n",
              "      <td>6.4</td>\n",
              "    </tr>\n",
              "  </tbody>\n",
              "</table>\n",
              "</div>"
            ],
            "text/plain": [
              "                Employee ID  ... Mental Fatigue Score\n",
              "0  fffe31003300390039003000  ...                  7.7\n",
              "1  fffe31003300310037003800  ...                  5.2\n",
              "2  fffe33003400380035003900  ...                  5.9\n",
              "3      fffe3100370039003200  ...                  4.6\n",
              "4  fffe32003600390036003700  ...                  6.4\n",
              "\n",
              "[5 rows x 8 columns]"
            ]
          },
          "metadata": {},
          "execution_count": 39
        }
      ]
    },
    {
      "cell_type": "code",
      "metadata": {
        "id": "6NIidoQaam3D"
      },
      "source": [
        "test.drop('Employee ID' ,axis=1,inplace=True)"
      ],
      "execution_count": 41,
      "outputs": []
    },
    {
      "cell_type": "code",
      "metadata": {
        "id": "poHSaouaar_6"
      },
      "source": [
        "test['Date of Joining'] = pd.to_datetime(test['Date of Joining'])"
      ],
      "execution_count": 43,
      "outputs": []
    },
    {
      "cell_type": "code",
      "metadata": {
        "id": "NFeZOn7fayIL"
      },
      "source": [
        "test = pd.get_dummies(test,columns=['Gender', 'Company Type', 'WFH Setup Available',\n",
        "       'Designation', 'Resource Allocation'],drop_first=True)"
      ],
      "execution_count": 44,
      "outputs": []
    },
    {
      "cell_type": "code",
      "metadata": {
        "colab": {
          "base_uri": "https://localhost:8080/"
        },
        "id": "z60wQX1Ba4Tz",
        "outputId": "55dfff6d-84cb-4526-ef61-67a76936cabc"
      },
      "source": [
        "import datetime as dt\n",
        "test['Date_of_Joining_year'] = test['Date of Joining'].dt.year\n",
        "test['Date_of_Joining_month'] = test['Date of Joining'].dt.month\n",
        "test['Date_of_Joining_week'] = test['Date of Joining'].dt.week\n",
        "test['Date_of_Joining_day'] = test['Date of Joining'].dt.day\n",
        "test['Date_of_Joining_dayofweek'] = test['Date of Joining'].dt.dayofweek"
      ],
      "execution_count": 45,
      "outputs": [
        {
          "output_type": "stream",
          "name": "stderr",
          "text": [
            "/usr/local/lib/python3.7/dist-packages/ipykernel_launcher.py:4: FutureWarning: Series.dt.weekofyear and Series.dt.week have been deprecated.  Please use Series.dt.isocalendar().week instead.\n",
            "  after removing the cwd from sys.path.\n"
          ]
        }
      ]
    },
    {
      "cell_type": "code",
      "metadata": {
        "id": "4pCqjn_Na6ah"
      },
      "source": [
        "test.drop('Date of Joining',axis=1,inplace=True)"
      ],
      "execution_count": 46,
      "outputs": []
    },
    {
      "cell_type": "code",
      "metadata": {
        "colab": {
          "base_uri": "https://localhost:8080/"
        },
        "id": "xfYangVJa8Z6",
        "outputId": "14baf933-c536-4e01-cb76-269b9c8cc60b"
      },
      "source": [
        "test = sc.transform(test)"
      ],
      "execution_count": 47,
      "outputs": [
        {
          "output_type": "stream",
          "name": "stderr",
          "text": [
            "/usr/local/lib/python3.7/dist-packages/sklearn/base.py:439: UserWarning: X has feature names, but StandardScaler was fitted without feature names\n",
            "  f\"X has feature names, but {self.__class__.__name__} was fitted without\"\n"
          ]
        }
      ]
    },
    {
      "cell_type": "code",
      "metadata": {
        "id": "2jxZQZLLbJJy"
      },
      "source": [
        "from sklearn.ensemble import GradientBoostingRegressor\n",
        "from lightgbm import LGBMRegressor"
      ],
      "execution_count": 52,
      "outputs": []
    },
    {
      "cell_type": "code",
      "metadata": {
        "colab": {
          "base_uri": "https://localhost:8080/"
        },
        "id": "Lc1NyZ3bbO_0",
        "outputId": "1304bae9-350c-4dc9-f79a-bedc9fdeefa1"
      },
      "source": [
        "gd =GradientBoostingRegressor()\n",
        "gd.fit(X_train,Y_train)\n",
        "pred_gd = gd.predict(X_test)\n",
        "s4 = r2_score(Y_test,pred_gd)\n",
        "s4"
      ],
      "execution_count": 55,
      "outputs": [
        {
          "output_type": "execute_result",
          "data": {
            "text/plain": [
              "0.9228745881118934"
            ]
          },
          "metadata": {},
          "execution_count": 55
        }
      ]
    },
    {
      "cell_type": "code",
      "metadata": {
        "colab": {
          "base_uri": "https://localhost:8080/"
        },
        "id": "N0j7GEJ0c8wj",
        "outputId": "aa478af2-44c9-4093-d872-60c079478a90"
      },
      "source": [
        "lgb = LGBMRegressor()\n",
        "lgb.fit(X_train,Y_train,eval_set = (X_test,Y_test),early_stopping_rounds=1000)\n",
        "pred_lgb = lgb.predict(X_test)\n",
        "s5 = r2_score(Y_test,pred_lgb)\n",
        "s5"
      ],
      "execution_count": 56,
      "outputs": [
        {
          "output_type": "stream",
          "name": "stdout",
          "text": [
            "[1]\tvalid_0's l2: 0.0328209\n",
            "Training until validation scores don't improve for 1000 rounds.\n",
            "[2]\tvalid_0's l2: 0.0273079\n",
            "[3]\tvalid_0's l2: 0.0228293\n",
            "[4]\tvalid_0's l2: 0.0191804\n",
            "[5]\tvalid_0's l2: 0.016211\n",
            "[6]\tvalid_0's l2: 0.0137906\n",
            "[7]\tvalid_0's l2: 0.0118261\n",
            "[8]\tvalid_0's l2: 0.0102186\n",
            "[9]\tvalid_0's l2: 0.00891152\n",
            "[10]\tvalid_0's l2: 0.007839\n",
            "[11]\tvalid_0's l2: 0.00696327\n",
            "[12]\tvalid_0's l2: 0.00624337\n",
            "[13]\tvalid_0's l2: 0.00565577\n",
            "[14]\tvalid_0's l2: 0.00517661\n",
            "[15]\tvalid_0's l2: 0.00478412\n",
            "[16]\tvalid_0's l2: 0.00446212\n",
            "[17]\tvalid_0's l2: 0.00419779\n",
            "[18]\tvalid_0's l2: 0.0039832\n",
            "[19]\tvalid_0's l2: 0.00380779\n",
            "[20]\tvalid_0's l2: 0.00366053\n",
            "[21]\tvalid_0's l2: 0.00354035\n",
            "[22]\tvalid_0's l2: 0.00344089\n",
            "[23]\tvalid_0's l2: 0.00335642\n",
            "[24]\tvalid_0's l2: 0.00328464\n",
            "[25]\tvalid_0's l2: 0.00322868\n",
            "[26]\tvalid_0's l2: 0.0031783\n",
            "[27]\tvalid_0's l2: 0.00313605\n",
            "[28]\tvalid_0's l2: 0.00310399\n",
            "[29]\tvalid_0's l2: 0.00307486\n",
            "[30]\tvalid_0's l2: 0.00304878\n",
            "[31]\tvalid_0's l2: 0.00302977\n",
            "[32]\tvalid_0's l2: 0.0030133\n",
            "[33]\tvalid_0's l2: 0.00299979\n",
            "[34]\tvalid_0's l2: 0.00298774\n",
            "[35]\tvalid_0's l2: 0.00298031\n",
            "[36]\tvalid_0's l2: 0.00297115\n",
            "[37]\tvalid_0's l2: 0.00296659\n",
            "[38]\tvalid_0's l2: 0.00295986\n",
            "[39]\tvalid_0's l2: 0.00295504\n",
            "[40]\tvalid_0's l2: 0.00294811\n",
            "[41]\tvalid_0's l2: 0.00294172\n",
            "[42]\tvalid_0's l2: 0.00293947\n",
            "[43]\tvalid_0's l2: 0.00293621\n",
            "[44]\tvalid_0's l2: 0.0029345\n",
            "[45]\tvalid_0's l2: 0.00293357\n",
            "[46]\tvalid_0's l2: 0.00293344\n",
            "[47]\tvalid_0's l2: 0.00293065\n",
            "[48]\tvalid_0's l2: 0.00293009\n",
            "[49]\tvalid_0's l2: 0.00292948\n",
            "[50]\tvalid_0's l2: 0.00292674\n",
            "[51]\tvalid_0's l2: 0.00292793\n",
            "[52]\tvalid_0's l2: 0.00292817\n",
            "[53]\tvalid_0's l2: 0.00292994\n",
            "[54]\tvalid_0's l2: 0.0029311\n",
            "[55]\tvalid_0's l2: 0.0029298\n",
            "[56]\tvalid_0's l2: 0.00292922\n",
            "[57]\tvalid_0's l2: 0.00293021\n",
            "[58]\tvalid_0's l2: 0.00293053\n",
            "[59]\tvalid_0's l2: 0.00293042\n",
            "[60]\tvalid_0's l2: 0.00292761\n",
            "[61]\tvalid_0's l2: 0.00292728\n",
            "[62]\tvalid_0's l2: 0.00292564\n",
            "[63]\tvalid_0's l2: 0.00292388\n",
            "[64]\tvalid_0's l2: 0.00292481\n",
            "[65]\tvalid_0's l2: 0.00292741\n",
            "[66]\tvalid_0's l2: 0.00292777\n",
            "[67]\tvalid_0's l2: 0.00292855\n",
            "[68]\tvalid_0's l2: 0.00292714\n",
            "[69]\tvalid_0's l2: 0.00292632\n",
            "[70]\tvalid_0's l2: 0.00292562\n",
            "[71]\tvalid_0's l2: 0.00292596\n",
            "[72]\tvalid_0's l2: 0.00292558\n",
            "[73]\tvalid_0's l2: 0.00292566\n",
            "[74]\tvalid_0's l2: 0.00292611\n",
            "[75]\tvalid_0's l2: 0.00292588\n",
            "[76]\tvalid_0's l2: 0.00292593\n",
            "[77]\tvalid_0's l2: 0.00292614\n",
            "[78]\tvalid_0's l2: 0.00292652\n",
            "[79]\tvalid_0's l2: 0.00292662\n",
            "[80]\tvalid_0's l2: 0.0029258\n",
            "[81]\tvalid_0's l2: 0.00292594\n",
            "[82]\tvalid_0's l2: 0.00292542\n",
            "[83]\tvalid_0's l2: 0.0029259\n",
            "[84]\tvalid_0's l2: 0.00292593\n",
            "[85]\tvalid_0's l2: 0.00292641\n",
            "[86]\tvalid_0's l2: 0.00292781\n",
            "[87]\tvalid_0's l2: 0.00292688\n",
            "[88]\tvalid_0's l2: 0.00292683\n",
            "[89]\tvalid_0's l2: 0.00292736\n",
            "[90]\tvalid_0's l2: 0.00292878\n",
            "[91]\tvalid_0's l2: 0.00292959\n",
            "[92]\tvalid_0's l2: 0.00292978\n",
            "[93]\tvalid_0's l2: 0.0029301\n",
            "[94]\tvalid_0's l2: 0.00293086\n",
            "[95]\tvalid_0's l2: 0.00293154\n",
            "[96]\tvalid_0's l2: 0.00293184\n",
            "[97]\tvalid_0's l2: 0.00293243\n",
            "[98]\tvalid_0's l2: 0.00293367\n",
            "[99]\tvalid_0's l2: 0.00293376\n",
            "[100]\tvalid_0's l2: 0.0029339\n",
            "Did not meet early stopping. Best iteration is:\n",
            "[63]\tvalid_0's l2: 0.00292388\n"
          ]
        },
        {
          "output_type": "execute_result",
          "data": {
            "text/plain": [
              "0.9261186655760011"
            ]
          },
          "metadata": {},
          "execution_count": 56
        }
      ]
    },
    {
      "cell_type": "code",
      "metadata": {
        "colab": {
          "base_uri": "https://localhost:8080/"
        },
        "id": "7nAJKfAhdlP2",
        "outputId": "d1c3f19c-ee1b-48a7-b508-1dafd9548159"
      },
      "source": [
        "from xgboost import XGBRegressor\n",
        "xg = XGBRegressor(n_estimators = 3000,learning_rate=0.01)\n",
        "xg.fit(X_train,Y_train)\n",
        "pred_xg = xg.predict(X_test)\n",
        "s6 = r2_score(Y_test,pred_xg)\n",
        "s6"
      ],
      "execution_count": 60,
      "outputs": [
        {
          "output_type": "stream",
          "name": "stdout",
          "text": [
            "[14:35:35] WARNING: /workspace/src/objective/regression_obj.cu:152: reg:linear is now deprecated in favor of reg:squarederror.\n"
          ]
        },
        {
          "output_type": "execute_result",
          "data": {
            "text/plain": [
              "0.9253421309838267"
            ]
          },
          "metadata": {},
          "execution_count": 60
        }
      ]
    },
    {
      "cell_type": "code",
      "metadata": {
        "id": "2EefvjC8dK3Z"
      },
      "source": [
        "avg = StackingCVRegressor(regressors=(lgb,rf,gd),meta_regressor=lgb,use_features_in_secondary=False)"
      ],
      "execution_count": 57,
      "outputs": []
    },
    {
      "cell_type": "code",
      "metadata": {
        "id": "C8-5WHekdRSB"
      },
      "source": [
        "avg.fit(X_train,Y_train)\n",
        "test_stack = avg.predict(test)"
      ],
      "execution_count": 58,
      "outputs": []
    },
    {
      "cell_type": "code",
      "metadata": {
        "id": "sGMm4DobdTRt"
      },
      "source": [
        "test_lg = lgb.predict(test)\n",
        "test_rf = rf.predict(test)\n",
        "test_xg = xg.predict(test)\n",
        "test_gd = gd.predict(test)\n",
        "test_lr = lr.predict(test)\n",
        "final_test = (test_lg*0.6 + test_rf*0.1 + test_xg*0.1 + test_gd*0.1 + test_lr*0.1)"
      ],
      "execution_count": 61,
      "outputs": []
    },
    {
      "cell_type": "code",
      "metadata": {
        "id": "QTpsuKn-fIph"
      },
      "source": [
        "test = pd.read_csv('/content/test.csv')"
      ],
      "execution_count": 64,
      "outputs": []
    },
    {
      "cell_type": "code",
      "metadata": {
        "id": "u43nfp5EfLWB"
      },
      "source": [
        "submit = pd.DataFrame()\n",
        "submit['Employee ID'] = test['Employee ID']"
      ],
      "execution_count": 65,
      "outputs": []
    },
    {
      "cell_type": "code",
      "metadata": {
        "id": "OWBGzHJhfclB"
      },
      "source": [
        "submit['Burn Rate'] = final_test.round(2)"
      ],
      "execution_count": 66,
      "outputs": []
    },
    {
      "cell_type": "code",
      "metadata": {
        "colab": {
          "base_uri": "https://localhost:8080/",
          "height": 206
        },
        "id": "3XFsWiaUfebj",
        "outputId": "b94bd10b-fcb4-43f2-fabd-0582604fae55"
      },
      "source": [
        "submit.head()"
      ],
      "execution_count": 67,
      "outputs": [
        {
          "output_type": "execute_result",
          "data": {
            "text/html": [
              "<div>\n",
              "<style scoped>\n",
              "    .dataframe tbody tr th:only-of-type {\n",
              "        vertical-align: middle;\n",
              "    }\n",
              "\n",
              "    .dataframe tbody tr th {\n",
              "        vertical-align: top;\n",
              "    }\n",
              "\n",
              "    .dataframe thead th {\n",
              "        text-align: right;\n",
              "    }\n",
              "</style>\n",
              "<table border=\"1\" class=\"dataframe\">\n",
              "  <thead>\n",
              "    <tr style=\"text-align: right;\">\n",
              "      <th></th>\n",
              "      <th>Employee ID</th>\n",
              "      <th>Burn Rate</th>\n",
              "    </tr>\n",
              "  </thead>\n",
              "  <tbody>\n",
              "    <tr>\n",
              "      <th>0</th>\n",
              "      <td>fffe31003300390039003000</td>\n",
              "      <td>0.61</td>\n",
              "    </tr>\n",
              "    <tr>\n",
              "      <th>1</th>\n",
              "      <td>fffe31003300310037003800</td>\n",
              "      <td>0.35</td>\n",
              "    </tr>\n",
              "    <tr>\n",
              "      <th>2</th>\n",
              "      <td>fffe33003400380035003900</td>\n",
              "      <td>0.43</td>\n",
              "    </tr>\n",
              "    <tr>\n",
              "      <th>3</th>\n",
              "      <td>fffe3100370039003200</td>\n",
              "      <td>0.37</td>\n",
              "    </tr>\n",
              "    <tr>\n",
              "      <th>4</th>\n",
              "      <td>fffe32003600390036003700</td>\n",
              "      <td>0.53</td>\n",
              "    </tr>\n",
              "  </tbody>\n",
              "</table>\n",
              "</div>"
            ],
            "text/plain": [
              "                Employee ID  Burn Rate\n",
              "0  fffe31003300390039003000       0.61\n",
              "1  fffe31003300310037003800       0.35\n",
              "2  fffe33003400380035003900       0.43\n",
              "3      fffe3100370039003200       0.37\n",
              "4  fffe32003600390036003700       0.53"
            ]
          },
          "metadata": {},
          "execution_count": 67
        }
      ]
    },
    {
      "cell_type": "code",
      "metadata": {
        "id": "Eibj_lFeff8Y"
      },
      "source": [
        "submit.to_csv('submit.csv',index=False)"
      ],
      "execution_count": 68,
      "outputs": []
    },
    {
      "cell_type": "code",
      "metadata": {
        "id": "Rtyy1_p6fyK6"
      },
      "source": [
        ""
      ],
      "execution_count": null,
      "outputs": []
    }
  ]
}